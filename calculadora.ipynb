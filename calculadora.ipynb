{
 "cells": [
  {
   "cell_type": "code",
   "execution_count": null,
   "metadata": {},
   "outputs": [],
   "source": [
    "def sumar(x,y):\n",
    "    return x+y\n",
    "def restar(x,y):\n",
    "    return x-y\n",
    "def multiplicar(x,y):\n",
    "    return x*y\n",
    "def dividir(x,y):\n",
    "    if y ==0:\n",
    "        retutn 'no se puede dividir por 0'\n",
    "    else:\n",
    "        return x/y\n",
    "    \n"
   ]
  }
 ],
 "metadata": {
  "language_info": {
   "name": "python"
  }
 },
 "nbformat": 4,
 "nbformat_minor": 2
}
